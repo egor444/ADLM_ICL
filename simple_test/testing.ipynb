{
 "cells": [
  {
   "cell_type": "code",
   "execution_count": 1,
   "id": "ff41b95b",
   "metadata": {},
   "outputs": [],
   "source": [
    "import torch\n",
    "import pandas as pd\n",
    "import numpy as np\n",
    "import matplotlib.pyplot as plt\n",
    "from model.model import SimpleMLP\n",
    "from data_handling.dataset import EmbeddingsToAgeDataset"
   ]
  },
  {
   "cell_type": "code",
   "execution_count": 5,
   "id": "7270a2ee",
   "metadata": {},
   "outputs": [
    {
     "name": "stderr",
     "output_type": "stream",
     "text": [
      "/tmp/ipykernel_165132/713862183.py:6: FutureWarning: You are using `torch.load` with `weights_only=False` (the current default value), which uses the default pickle module implicitly. It is possible to construct malicious pickle data which will execute arbitrary code during unpickling (See https://github.com/pytorch/pytorch/blob/main/SECURITY.md#untrusted-models for more details). In a future release, the default value for `weights_only` will be flipped to `True`. This limits the functions that could be executed during unpickling. Arbitrary objects will no longer be allowed to be loaded via this mode unless they are explicitly allowlisted by the user via `torch.serialization.add_safe_globals`. We recommend you start setting `weights_only=True` for any use case where you don't have full control of the loaded file. Please open an issue on GitHub for any issues related to this experimental feature.\n",
      "  model.load_state_dict(torch.load(\"model/simple_mlp.pth\"))\n"
     ]
    },
    {
     "data": {
      "text/plain": [
       "SimpleMLP(\n",
       "  (fc1): Linear(in_features=1026, out_features=512, bias=True)\n",
       "  (hidden_fc_1): Linear(in_features=512, out_features=512, bias=True)\n",
       "  (hidden_fc_2): Linear(in_features=512, out_features=512, bias=True)\n",
       "  (fc2): Linear(in_features=512, out_features=1, bias=True)\n",
       "  (activation): ReLU()\n",
       "  (dropout): Dropout(p=0.5, inplace=False)\n",
       "  (batch_norm): BatchNorm1d(512, eps=1e-05, momentum=0.1, affine=True, track_running_stats=True)\n",
       ")"
      ]
     },
     "execution_count": 5,
     "metadata": {},
     "output_type": "execute_result"
    }
   ],
   "source": [
    "INPUT_DIM = 1026 # 1024 features + bmi + height\n",
    "HIDDEN_DIM = 512\n",
    "OUTPUT_DIM = 1\n",
    "model = SimpleMLP(INPUT_DIM, HIDDEN_DIM, OUTPUT_DIM)\n",
    "\n",
    "model.load_state_dict(torch.load(\"model/simple_mlp.pth\"))\n",
    "model.eval()\n",
    "device = torch.device(\"cuda\" if torch.cuda.is_available() else \"cpu\")\n",
    "model.to(device)"
   ]
  },
  {
   "cell_type": "code",
   "execution_count": 6,
   "id": "2d0f6299",
   "metadata": {},
   "outputs": [],
   "source": [
    "BATCHSIZE = 32\n",
    "val_loader = torch.utils.data.DataLoader(\n",
    "        EmbeddingsToAgeDataset(\"../data/healthy_val.csv\"),\n",
    "        batch_size=BATCHSIZE,\n",
    "        shuffle=False,\n",
    "        num_workers=4,\n",
    "        pin_memory=True,\n",
    "        drop_last=True\n",
    "    )"
   ]
  },
  {
   "cell_type": "code",
   "execution_count": null,
   "id": "8bc5995f",
   "metadata": {},
   "outputs": [
    {
     "name": "stdout",
     "output_type": "stream",
     "text": [
      "Validation Accuracy: 0.4761\n",
      "Validation Loss: 55.9537\n"
     ]
    }
   ],
   "source": [
    "\n",
    "def get_accuracy_and_loss(model, val_loader):\n",
    "    criterion = torch.nn.MSELoss()\n",
    "    total_loss = 0\n",
    "    total_samples = 0\n",
    "    correct_predictions = 0\n",
    "\n",
    "    with torch.no_grad():\n",
    "        for batch in val_loader:\n",
    "            inputs, targets = batch\n",
    "            inputs, targets = inputs.to(device), targets.to(device)\n",
    "\n",
    "            outputs = model(inputs).squeeze()\n",
    "            targets = targets.squeeze()\n",
    "\n",
    "            loss = criterion(outputs, targets)\n",
    "            total_loss += loss.item() * inputs.size(0)\n",
    "            total_samples += inputs.size(0)\n",
    "            correct_predictions += (torch.abs(outputs - targets) < 5).sum().item()\n",
    "\n",
    "    accuracy = correct_predictions / total_samples\n",
    "    average_loss = total_loss / total_samples\n",
    "\n",
    "    return accuracy, average_loss\n",
    "\n",
    "acc, loss = get_accuracy_and_loss(model, val_loader)\n",
    "print(f\"Validation Accuracy: {acc:.4f}\")\n",
    "print(f\"Validation Loss: {loss:.4f}\")"
   ]
  },
  {
   "cell_type": "code",
   "execution_count": null,
   "id": "69f8d3cf",
   "metadata": {},
   "outputs": [],
   "source": []
  }
 ],
 "metadata": {
  "kernelspec": {
   "display_name": "Python 3",
   "language": "python",
   "name": "python3"
  },
  "language_info": {
   "codemirror_mode": {
    "name": "ipython",
    "version": 3
   },
   "file_extension": ".py",
   "mimetype": "text/x-python",
   "name": "python",
   "nbconvert_exporter": "python",
   "pygments_lexer": "ipython3",
   "version": "3.13.2"
  }
 },
 "nbformat": 4,
 "nbformat_minor": 5
}
