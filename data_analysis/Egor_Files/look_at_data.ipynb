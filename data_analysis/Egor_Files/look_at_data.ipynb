{
 "cells": [
  {
   "cell_type": "code",
   "execution_count": 1,
   "id": "1d94c9a8",
   "metadata": {},
   "outputs": [],
   "source": [
    "import pandas as pd\n",
    "import numpy as np\n",
    "import matplotlib.pyplot as plt\n",
    "\n",
    "from sklearn.decomposition import PCA"
   ]
  },
  {
   "cell_type": "code",
   "execution_count": 2,
   "id": "2b53c2c8",
   "metadata": {},
   "outputs": [
    {
     "data": {
      "text/plain": [
       "(2712, 7492)"
      ]
     },
     "execution_count": 2,
     "metadata": {},
     "output_type": "execute_result"
    }
   ],
   "source": [
    "datapath = \"../../data/regression/train_fat.csv\"\n",
    "\n",
    "data = pd.read_csv(datapath)\n",
    "data.shape"
   ]
  },
  {
   "cell_type": "code",
   "execution_count": 3,
   "id": "2172398c",
   "metadata": {},
   "outputs": [
    {
     "data": {
      "text/plain": [
       "(682, 7492)"
      ]
     },
     "execution_count": 3,
     "metadata": {},
     "output_type": "execute_result"
    }
   ],
   "source": [
    "test_path = \"../../data/regression/test_fat.csv\"\n",
    "data_test = pd.read_csv(test_path)\n",
    "data_test.shape"
   ]
  },
  {
   "cell_type": "code",
   "execution_count": 5,
   "id": "0a578d24",
   "metadata": {},
   "outputs": [],
   "source": [
    "# perform PCA\n",
    "pca = PCA(n_components=0.95)\n",
    "\n",
    "data_target = data['age']\n",
    "data_features = data.drop(columns=['age','eid'])\n",
    "\n",
    "data_pca = pca.fit_transform(data_features)\n",
    "data_pca = pd.DataFrame(data_pca, columns=[f'PC{i+1}' for i in range(data_pca.shape[1])])\n",
    "data_pca['age'] = data_target.values\n",
    "\n",
    "data_pca.to_csv(\"../../data/regression/train_fat_pca.csv\", index=False)\n",
    "data_test_features = data_test.drop(columns=['age','eid'])\n",
    "data_test_pca = pca.transform(data_test_features)\n",
    "data_test_pca = pd.DataFrame(data_test_pca, columns=[f'PC{i+1}' for i in range(data_test_pca.shape[1])])\n",
    "data_test_pca['age'] = data_test['age'].values\n",
    "data_test_pca.to_csv(\"../../data/regression/test_fat_pca.csv\", index=False)\n"
   ]
  },
  {
   "cell_type": "code",
   "execution_count": 2,
   "id": "046940c9",
   "metadata": {},
   "outputs": [],
   "source": [
    "class_data_train = pd.read_csv(\"../../data/classification/train_fat.csv\")\n",
    "class_data_target_train = class_data_train['target']\n",
    "class_data_train = class_data_train.drop(columns=['target', 'eid'])\n",
    "\n",
    "# perform pca 2\n",
    "pca2 = PCA(n_components=0.95)\n",
    "\n",
    "class_data_pca = pca2.fit_transform(class_data_train)\n",
    "class_data_pca = pd.DataFrame(class_data_pca, columns=[f'PC{i+1}' for i in range(class_data_pca.shape[1])])\n",
    "class_data_pca['target'] = class_data_target_train.values\n",
    "# shuffle the data\n",
    "class_data_pca = class_data_pca.sample(frac=1, random_state=42).reset_index(drop=True)\n",
    "\n",
    "class_data_pca.to_csv(\"../../data/classification/train_fat_pca.csv\", index=False)\n",
    "class_data_test = pd.read_csv(\"../../data/classification/test_fat.csv\")\n",
    "class_data_target_test = class_data_test['target']\n",
    "class_data_test = class_data_test.drop(columns=['target', 'eid'])\n",
    "class_data_test_pca = pca2.transform(class_data_test)\n",
    "class_data_test_pca = pd.DataFrame(class_data_test_pca, columns=[f'PC{i+1}' for i in range(class_data_test_pca.shape[1])])\n",
    "class_data_test_pca['target'] = class_data_target_test.values\n",
    "# shuffle the data\n",
    "class_data_test_pca = class_data_test_pca.sample(frac=1, random_state=42).reset_index(drop=True)\n",
    "class_data_test_pca.to_csv(\"../../data/classification/test_fat_pca.csv\", index=False)"
   ]
  },
  {
   "cell_type": "code",
   "execution_count": 3,
   "id": "2f8fd108",
   "metadata": {},
   "outputs": [
    {
     "data": {
      "text/html": [
       "<div>\n",
       "<style scoped>\n",
       "    .dataframe tbody tr th:only-of-type {\n",
       "        vertical-align: middle;\n",
       "    }\n",
       "\n",
       "    .dataframe tbody tr th {\n",
       "        vertical-align: top;\n",
       "    }\n",
       "\n",
       "    .dataframe thead th {\n",
       "        text-align: right;\n",
       "    }\n",
       "</style>\n",
       "<table border=\"1\" class=\"dataframe\">\n",
       "  <thead>\n",
       "    <tr style=\"text-align: right;\">\n",
       "      <th></th>\n",
       "      <th>PC1</th>\n",
       "      <th>PC2</th>\n",
       "      <th>PC3</th>\n",
       "      <th>PC4</th>\n",
       "      <th>PC5</th>\n",
       "      <th>PC6</th>\n",
       "      <th>PC7</th>\n",
       "      <th>PC8</th>\n",
       "      <th>PC9</th>\n",
       "      <th>PC10</th>\n",
       "      <th>...</th>\n",
       "      <th>PC566</th>\n",
       "      <th>PC567</th>\n",
       "      <th>PC568</th>\n",
       "      <th>PC569</th>\n",
       "      <th>PC570</th>\n",
       "      <th>PC571</th>\n",
       "      <th>PC572</th>\n",
       "      <th>PC573</th>\n",
       "      <th>PC574</th>\n",
       "      <th>target</th>\n",
       "    </tr>\n",
       "  </thead>\n",
       "  <tbody>\n",
       "    <tr>\n",
       "      <th>0</th>\n",
       "      <td>1.465504</td>\n",
       "      <td>-18.203848</td>\n",
       "      <td>17.062728</td>\n",
       "      <td>-3.327375</td>\n",
       "      <td>-2.577832</td>\n",
       "      <td>12.578374</td>\n",
       "      <td>16.984261</td>\n",
       "      <td>-2.627743</td>\n",
       "      <td>8.480979</td>\n",
       "      <td>5.058813</td>\n",
       "      <td>...</td>\n",
       "      <td>-0.891070</td>\n",
       "      <td>-2.736654</td>\n",
       "      <td>-0.139619</td>\n",
       "      <td>0.939866</td>\n",
       "      <td>-0.302019</td>\n",
       "      <td>-0.452042</td>\n",
       "      <td>-0.017596</td>\n",
       "      <td>-0.657382</td>\n",
       "      <td>0.795596</td>\n",
       "      <td>0</td>\n",
       "    </tr>\n",
       "    <tr>\n",
       "      <th>1</th>\n",
       "      <td>8.665439</td>\n",
       "      <td>-4.908460</td>\n",
       "      <td>-18.190027</td>\n",
       "      <td>-26.823717</td>\n",
       "      <td>-12.882070</td>\n",
       "      <td>-14.626817</td>\n",
       "      <td>9.870195</td>\n",
       "      <td>-8.514158</td>\n",
       "      <td>-2.509815</td>\n",
       "      <td>-7.880590</td>\n",
       "      <td>...</td>\n",
       "      <td>0.648438</td>\n",
       "      <td>-0.633138</td>\n",
       "      <td>0.058734</td>\n",
       "      <td>0.151531</td>\n",
       "      <td>0.447488</td>\n",
       "      <td>1.594024</td>\n",
       "      <td>0.340521</td>\n",
       "      <td>1.218536</td>\n",
       "      <td>0.175032</td>\n",
       "      <td>1</td>\n",
       "    </tr>\n",
       "  </tbody>\n",
       "</table>\n",
       "<p>2 rows × 575 columns</p>\n",
       "</div>"
      ],
      "text/plain": [
       "        PC1        PC2        PC3        PC4        PC5        PC6        PC7  \\\n",
       "0  1.465504 -18.203848  17.062728  -3.327375  -2.577832  12.578374  16.984261   \n",
       "1  8.665439  -4.908460 -18.190027 -26.823717 -12.882070 -14.626817   9.870195   \n",
       "\n",
       "        PC8       PC9      PC10  ...     PC566     PC567     PC568     PC569  \\\n",
       "0 -2.627743  8.480979  5.058813  ... -0.891070 -2.736654 -0.139619  0.939866   \n",
       "1 -8.514158 -2.509815 -7.880590  ...  0.648438 -0.633138  0.058734  0.151531   \n",
       "\n",
       "      PC570     PC571     PC572     PC573     PC574  target  \n",
       "0 -0.302019 -0.452042 -0.017596 -0.657382  0.795596       0  \n",
       "1  0.447488  1.594024  0.340521  1.218536  0.175032       1  \n",
       "\n",
       "[2 rows x 575 columns]"
      ]
     },
     "execution_count": 3,
     "metadata": {},
     "output_type": "execute_result"
    }
   ],
   "source": [
    "class_data_test_pca.head(2)"
   ]
  },
  {
   "cell_type": "code",
   "execution_count": null,
   "id": "baa3d58f",
   "metadata": {},
   "outputs": [],
   "source": []
  }
 ],
 "metadata": {
  "kernelspec": {
   "display_name": "Python 3",
   "language": "python",
   "name": "python3"
  },
  "language_info": {
   "codemirror_mode": {
    "name": "ipython",
    "version": 3
   },
   "file_extension": ".py",
   "mimetype": "text/x-python",
   "name": "python",
   "nbconvert_exporter": "python",
   "pygments_lexer": "ipython3",
   "version": "3.13.2"
  }
 },
 "nbformat": 4,
 "nbformat_minor": 5
}
